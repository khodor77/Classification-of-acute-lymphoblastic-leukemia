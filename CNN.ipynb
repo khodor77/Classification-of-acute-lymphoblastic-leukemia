{
  "nbformat": 4,
  "nbformat_minor": 0,
  "metadata": {
    "colab": {
      "provenance": [],
      "gpuType": "T4"
    },
    "kernelspec": {
      "name": "python3",
      "display_name": "Python 3"
    },
    "language_info": {
      "name": "python"
    },
    "accelerator": "GPU"
  },
  "cells": [
    {
      "cell_type": "code",
      "source": [
        "import numpy as np\n",
        "import pandas as pd\n",
        "import matplotlib.pyplot as plt\n",
        "import PIL\n",
        "import PIL.Image\n",
        "%matplotlib inline\n",
        "plt.style.use('fivethirtyeight')\n",
        "from PIL import Image\n",
        "import keras\n",
        "from tensorflow.keras.preprocessing import image, image_dataset_from_directory\n",
        "from tensorflow.keras import models, layers, optimizers\n",
        "from keras.callbacks import ModelCheckpoint\n",
        "from tensorflow.keras.layers import BatchNormalization\n",
        "from google.colab import drive\n",
        "import os\n",
        "import gc\n",
        "from timeit import default_timer as timer\n",
        "from sklearn.model_selection import train_test_split\n",
        "from tensorflow.keras.preprocessing.image import ImageDataGenerator\n",
        "from tensorflow.keras.models import Sequential\n",
        "from tensorflow.keras.layers import Conv2D, MaxPooling2D, Flatten, Dense\n",
        "from tensorflow.keras.callbacks import History\n",
        "import seaborn as sns\n",
        "import matplotlib.pyplot as plt"
      ],
      "metadata": {
        "id": "Y6-_zRm_9PqO"
      },
      "execution_count": null,
      "outputs": []
    },
    {
      "cell_type": "code",
      "source": [
        "drive.mount('/content/drive')"
      ],
      "metadata": {
        "colab": {
          "base_uri": "https://localhost:8080/"
        },
        "id": "S25Ja9O39cci",
        "outputId": "6a42ecaa-9f84-435c-af07-5cfee9560810"
      },
      "execution_count": null,
      "outputs": [
        {
          "output_type": "stream",
          "name": "stdout",
          "text": [
            "Mounted at /content/drive\n"
          ]
        }
      ]
    },
    {
      "cell_type": "code",
      "source": [
        "import os\n",
        "import pathlib\n",
        "data_dir = pathlib.Path(\"/content/drive/MyDrive/dataset_processed/Foriginal\")\n",
        "classes = {'Benign': 0, 'Early': 1, 'Pre': 2, 'Pro': 3} #defines a dictionar called classes, where each key-value pair in the dictionary represents a class label and its corresponding numerical value."
      ],
      "metadata": {
        "id": "uGVStvDxACEz"
      },
      "execution_count": null,
      "outputs": []
    },
    {
      "cell_type": "code",
      "source": [
        "#the two syntaxes can be joined is one command image_count = len(list(data_dir.glob('*/*.jpg')))\n",
        "image_files = list(data_dir.glob(\"**/*.jpg\"))\n",
        "# Count the number of image files found\n",
        "num_images = len(image_files)\n",
        "\n",
        "print(\"Number of images found:\", num_images)"
      ],
      "metadata": {
        "colab": {
          "base_uri": "https://localhost:8080/"
        },
        "id": "lUvGc66BAJn3",
        "outputId": "93504f6b-c130-4437-f967-e35fb72fe95a"
      },
      "execution_count": null,
      "outputs": [
        {
          "output_type": "stream",
          "name": "stdout",
          "text": [
            "Number of images found: 4000\n"
          ]
        }
      ]
    },
    {
      "cell_type": "code",
      "source": [
        "import cv2 # library in python for data processing\n",
        "#By assigning an empty list to the variable X, you are creating an empty container that can be used to store and manipulate data.\n",
        "#Later in your code, you can append or extend this list with elements, remove elements, access specific elements, or perform various operations on the list.\n",
        "\n",
        "X = [] #initializes a variable named X as an empty list.\n",
        "Y = [] #initializes a variable named Y as an empty list.\n",
        "for cls in classes :\n",
        "    folder_path = os.path.join(data_dir, cls)  # Path to the class subfolder\n",
        "    for filename in os.listdir(folder_path):\n",
        "        img_path = os.path.join(folder_path, filename)  # Path to the image file\n",
        "        img = cv2.imread(img_path,0)  # Read the image using OpenCV/ 0: is for converting the colored image to gary-scale image\n",
        "        if img is not None:\n",
        "           img = cv2.resize(img, (224, 224))\n",
        "           X.append(img) #a list where each item represents an image. Each image will be in the form of a NumPy array => (num_images, 200, 200). will be a list of NumPy arrays representing the resized images\n",
        "           Y.append(classes[cls]) #will be a list of labels associated with each image.(same length os X)\n"
      ],
      "metadata": {
        "id": "vsXr5au8AQuj"
      },
      "execution_count": null,
      "outputs": []
    },
    {
      "cell_type": "code",
      "source": [
        "np.unique(Y)#It is used to find the unique elements in an array Y and returns them in sorted order."
      ],
      "metadata": {
        "colab": {
          "base_uri": "https://localhost:8080/"
        },
        "id": "i9YbTdszj6IR",
        "outputId": "d4f55d7b-f0e5-4219-eada-183a304118b9"
      },
      "execution_count": null,
      "outputs": [
        {
          "output_type": "execute_result",
          "data": {
            "text/plain": [
              "array([0, 1, 2, 3])"
            ]
          },
          "metadata": {},
          "execution_count": 6
        }
      ]
    },
    {
      "cell_type": "code",
      "source": [
        "pd.Series(Y).value_counts()#It counts the occurrence of each unique value in a series Y and returns the result as a new series, where the unique values are the index and the counts are the values."
      ],
      "metadata": {
        "colab": {
          "base_uri": "https://localhost:8080/"
        },
        "id": "zNUpwu55ke0G",
        "outputId": "61f30960-3fa0-4a03-e5fd-89e84e5402ed"
      },
      "execution_count": null,
      "outputs": [
        {
          "output_type": "execute_result",
          "data": {
            "text/plain": [
              "0    1000\n",
              "1    1000\n",
              "2    1000\n",
              "3    1000\n",
              "dtype: int64"
            ]
          },
          "metadata": {},
          "execution_count": 7
        }
      ]
    },
    {
      "cell_type": "code",
      "source": [
        "num_images = len(X)\n",
        "print(\"Number of images found:\", num_images)"
      ],
      "metadata": {
        "colab": {
          "base_uri": "https://localhost:8080/"
        },
        "id": "_5pRAkI0u3gw",
        "outputId": "53d2cbe8-b968-474d-8ea2-faf62a6b367d"
      },
      "execution_count": null,
      "outputs": [
        {
          "output_type": "stream",
          "name": "stdout",
          "text": [
            "Number of images found: 4000\n"
          ]
        }
      ]
    },
    {
      "cell_type": "code",
      "execution_count": null,
      "metadata": {
        "id": "V7ORvGH4YI-K",
        "colab": {
          "base_uri": "https://localhost:8080/"
        },
        "outputId": "d2288823-7d83-4ee7-aa6b-41a6273d02b3"
      },
      "outputs": [
        {
          "output_type": "stream",
          "name": "stdout",
          "text": [
            "X.shape[0]: 4000\n",
            "X.shape[1]: 224\n",
            "X.shape[2]: 224\n"
          ]
        }
      ],
      "source": [
        "#convert a list X,Y into a NumPy array(Tensorflow library expect the input data to be in NumPy arrays or errors will happens)\n",
        "X = np.array(X)\n",
        "Y = np.array(Y)\n",
        "X = X.reshape(X.shape[0], X.shape[1], X.shape[2], 1) # reshapes the array X by adding a new dimension of size 1 at the end (it's essential when working with convolutional neural networks (CNNs) where the input data is expected to have a specific shape, including a channel dimension).\n",
        "print(\"X.shape[0]:\", X.shape[0])\n",
        "print(\"X.shape[1]:\", X.shape[1])\n",
        "print(\"X.shape[2]:\", X.shape[2])"
      ]
    },
    {
      "cell_type": "code",
      "source": [
        "xtrain, xtest, ytrain, ytest = train_test_split(X, Y, random_state=10, test_size=.20) #same train-test split every time i run the code\n",
        "xtrain = xtrain / 255.0\n",
        "xtest = xtest / 255.0\n",
        "print(xtrain.shape, xtest.shape)"
      ],
      "metadata": {
        "id": "2OfiERpkAw2Y",
        "colab": {
          "base_uri": "https://localhost:8080/"
        },
        "outputId": "598a212b-0b0d-4ad4-ce56-747143ffb678"
      },
      "execution_count": null,
      "outputs": [
        {
          "output_type": "stream",
          "name": "stdout",
          "text": [
            "(3200, 224, 224, 1) (800, 224, 224, 1)\n"
          ]
        }
      ]
    },
    {
      "cell_type": "code",
      "source": [
        "pd.Series(ytest).value_counts()#to make sure the splitting is performed on the 4 classes"
      ],
      "metadata": {
        "colab": {
          "base_uri": "https://localhost:8080/"
        },
        "id": "Amp4PYM626OI",
        "outputId": "b34705bc-bdcb-4815-a1c4-83d792c64952"
      },
      "execution_count": null,
      "outputs": [
        {
          "output_type": "execute_result",
          "data": {
            "text/plain": [
              "1    222\n",
              "3    200\n",
              "0    194\n",
              "2    184\n",
              "dtype: int64"
            ]
          },
          "metadata": {},
          "execution_count": 11
        }
      ]
    },
    {
      "cell_type": "code",
      "source": [
        "#to det the type of class in object\n",
        "print(type(xtrain))\n",
        "print(type(xtest))\n",
        "print(type(ytrain))\n",
        "print(type(ytest))"
      ],
      "metadata": {
        "colab": {
          "base_uri": "https://localhost:8080/"
        },
        "id": "9ZgRiqmjGXd_",
        "outputId": "d6933a46-e838-4aeb-eb42-8e4f40c1210e"
      },
      "execution_count": null,
      "outputs": [
        {
          "output_type": "stream",
          "name": "stdout",
          "text": [
            "<class 'numpy.ndarray'>\n",
            "<class 'numpy.ndarray'>\n",
            "<class 'numpy.ndarray'>\n",
            "<class 'numpy.ndarray'>\n"
          ]
        }
      ]
    },
    {
      "cell_type": "code",
      "source": [
        "#to disply the datatype of variables\n",
        "print(ytrain.dtype)\n",
        "print(ytest.dtype)\n",
        "print(xtrain.dtype)\n",
        "print(xtest.dtype)"
      ],
      "metadata": {
        "colab": {
          "base_uri": "https://localhost:8080/"
        },
        "id": "XdmwVJyuGbDl",
        "outputId": "12785602-25b1-4ed8-f793-a0c11436ebfd"
      },
      "execution_count": null,
      "outputs": [
        {
          "output_type": "stream",
          "name": "stdout",
          "text": [
            "int64\n",
            "int64\n",
            "float64\n",
            "float64\n"
          ]
        }
      ]
    },
    {
      "cell_type": "code",
      "source": [
        "xtrain = xtrain.astype(int)\n",
        "xtest = xtest.astype(int)\n",
        "print(xtrain.dtype)\n",
        "print(xtest.dtype)"
      ],
      "metadata": {
        "colab": {
          "base_uri": "https://localhost:8080/"
        },
        "id": "EwEvTJotJRK-",
        "outputId": "02523c8f-0dac-47b5-d605-c650a3f15d01"
      },
      "execution_count": null,
      "outputs": [
        {
          "output_type": "stream",
          "name": "stdout",
          "text": [
            "int64\n",
            "int64\n"
          ]
        }
      ]
    },
    {
      "cell_type": "code",
      "source": [
        "datagen = ImageDataGenerator(rotation_range=20, width_shift_range=0.2, height_shift_range=0.2, shear_range=0.2, zoom_range=0.2, horizontal_flip=True, vertical_flip=True)\n",
        "augmented_data = datagen.flow(xtrain, ytrain, batch_size=32)\n",
        "batch_size=32\n",
        "num_augmented_images = len(xtrain) // batch_size * batch_size\n",
        "print(\"Number of augmented images:\", num_augmented_images)\n",
        "datagen.fit(xtrain)"
      ],
      "metadata": {
        "colab": {
          "base_uri": "https://localhost:8080/"
        },
        "id": "udCuXDa3qPoL",
        "outputId": "0f7a1d40-e54a-42a5-e41c-3a6d88a74608"
      },
      "execution_count": null,
      "outputs": [
        {
          "output_type": "stream",
          "name": "stdout",
          "text": [
            "Number of augmented images: 3200\n"
          ]
        }
      ]
    },
    {
      "cell_type": "code",
      "source": [
        "rotation_range = 20  # Range of rotation in degrees\n",
        "width_shift_range = 0.2  # Range of horizontal shift as a fraction of total width\n",
        "height_shift_range = 0.2  # Range of vertical shift as a fraction of total height\n",
        "shear_range = 0.2  # Range of shear transformation\n",
        "zoom_range = 0.2  # Range of zoom\n",
        "num_samples = xtrain.shape[0]  # Number of original samples\n",
        "augmentation_factor = (1 + rotation_range/20) * (1 + width_shift_range/0.2) * (1 + height_shift_range/0.2) * (1 + shear_range/0.2) * (1 + zoom_range/0.2)  * 2  # Assuming both horizontal_flip and vertical_flip are True\n",
        "estimated_count = int(num_samples * augmentation_factor)\n",
        "\n",
        "print(\"Estimated count of augmented images:\", estimated_count)"
      ],
      "metadata": {
        "colab": {
          "base_uri": "https://localhost:8080/"
        },
        "id": "JY7Dc-SQ5eqM",
        "outputId": "dc6b8d7b-5836-4188-c253-e4dd5a6ef13e"
      },
      "execution_count": null,
      "outputs": [
        {
          "output_type": "stream",
          "name": "stdout",
          "text": [
            "Estimated count of augmented images: 204800\n"
          ]
        }
      ]
    },
    {
      "cell_type": "code",
      "source": [
        "model = Sequential()\n",
        "\n",
        "model.add(Conv2D(32, (3, 3), activation='relu', input_shape=(224, 224, 1), padding='same'))\n",
        "model.add(MaxPooling2D((2, 2)))\n",
        "\n",
        "model.add(Conv2D(64, (3, 3), activation='relu'))\n",
        "model.add(MaxPooling2D((2, 2)))\n",
        "\n",
        "model.add(Conv2D(128, (3, 3), activation='relu'))\n",
        "model.add(MaxPooling2D((2, 2)))\n",
        "\n",
        "model.add(Conv2D(256, (3, 3), activation='relu'))\n",
        "model.add(MaxPooling2D((2, 2)))\n",
        "\n",
        "model.add(Conv2D(512, (3, 3), activation='relu'))\n",
        "model.add(MaxPooling2D((2, 2)))\n",
        "\n",
        "\n",
        "model.add(Flatten())\n",
        "\n",
        "\n",
        "model.add(Dense(256, activation='relu'))\n",
        "\n",
        "model.add(Dense(128, activation='relu'))\n",
        "\n",
        "model.add(Dense(64, activation='relu'))\n",
        "\n",
        "model.add(Dense(4, activation='softmax'))"
      ],
      "metadata": {
        "id": "fmHepUuW5fKI"
      },
      "execution_count": null,
      "outputs": []
    },
    {
      "cell_type": "code",
      "source": [
        "model.compile(optimizer='adam', loss='sparse_categorical_crossentropy', metrics=['accuracy'])"
      ],
      "metadata": {
        "id": "WAOxRJSe5fMt"
      },
      "execution_count": null,
      "outputs": []
    },
    {
      "cell_type": "code",
      "source": [
        "history = model.fit(datagen.flow(xtrain, ytrain, batch_size=32), validation_data=(xtest, ytest), epochs=50)"
      ],
      "metadata": {
        "colab": {
          "base_uri": "https://localhost:8080/"
        },
        "id": "RksVk4-_9E8G",
        "outputId": "7e9cbb05-9ccb-4a7b-9009-f2f3fe1c16eb"
      },
      "execution_count": null,
      "outputs": [
        {
          "output_type": "stream",
          "name": "stdout",
          "text": [
            "Epoch 1/50\n",
            "100/100 [==============================] - 30s 157ms/step - loss: 1.3869 - accuracy: 0.2453 - val_loss: 1.3871 - val_accuracy: 0.2500\n",
            "Epoch 2/50\n",
            "100/100 [==============================] - 15s 149ms/step - loss: 1.3866 - accuracy: 0.2453 - val_loss: 1.3865 - val_accuracy: 0.2300\n",
            "Epoch 3/50\n",
            "100/100 [==============================] - 15s 152ms/step - loss: 1.3864 - accuracy: 0.2550 - val_loss: 1.3875 - val_accuracy: 0.2300\n",
            "Epoch 4/50\n",
            "100/100 [==============================] - 15s 148ms/step - loss: 1.3867 - accuracy: 0.2584 - val_loss: 1.3874 - val_accuracy: 0.2300\n",
            "Epoch 5/50\n",
            "100/100 [==============================] - 15s 154ms/step - loss: 1.3866 - accuracy: 0.2594 - val_loss: 1.3880 - val_accuracy: 0.2300\n",
            "Epoch 6/50\n",
            "100/100 [==============================] - 17s 171ms/step - loss: 1.3823 - accuracy: 0.2675 - val_loss: 1.3865 - val_accuracy: 0.2300\n",
            "Epoch 7/50\n",
            "100/100 [==============================] - 15s 152ms/step - loss: 1.3816 - accuracy: 0.2859 - val_loss: 1.3872 - val_accuracy: 0.2300\n",
            "Epoch 8/50\n",
            "100/100 [==============================] - 15s 149ms/step - loss: 1.3734 - accuracy: 0.2941 - val_loss: 1.3256 - val_accuracy: 0.2512\n",
            "Epoch 9/50\n",
            "100/100 [==============================] - 15s 147ms/step - loss: 1.1532 - accuracy: 0.4606 - val_loss: 1.0057 - val_accuracy: 0.5150\n",
            "Epoch 10/50\n",
            "100/100 [==============================] - 15s 145ms/step - loss: 0.9703 - accuracy: 0.5822 - val_loss: 0.9105 - val_accuracy: 0.6313\n",
            "Epoch 11/50\n",
            "100/100 [==============================] - 15s 148ms/step - loss: 0.8470 - accuracy: 0.6481 - val_loss: 0.7433 - val_accuracy: 0.6988\n",
            "Epoch 12/50\n",
            "100/100 [==============================] - 15s 149ms/step - loss: 0.7689 - accuracy: 0.6834 - val_loss: 0.9029 - val_accuracy: 0.5387\n",
            "Epoch 13/50\n",
            "100/100 [==============================] - 15s 145ms/step - loss: 0.7709 - accuracy: 0.6869 - val_loss: 0.6998 - val_accuracy: 0.7200\n",
            "Epoch 14/50\n",
            "100/100 [==============================] - 15s 145ms/step - loss: 0.7298 - accuracy: 0.7178 - val_loss: 0.5656 - val_accuracy: 0.7825\n",
            "Epoch 15/50\n",
            "100/100 [==============================] - 15s 146ms/step - loss: 0.6656 - accuracy: 0.7394 - val_loss: 0.5423 - val_accuracy: 0.7887\n",
            "Epoch 16/50\n",
            "100/100 [==============================] - 15s 146ms/step - loss: 0.6373 - accuracy: 0.7525 - val_loss: 0.5186 - val_accuracy: 0.8050\n",
            "Epoch 17/50\n",
            "100/100 [==============================] - 15s 153ms/step - loss: 0.5852 - accuracy: 0.7775 - val_loss: 0.4929 - val_accuracy: 0.8125\n",
            "Epoch 18/50\n",
            "100/100 [==============================] - 15s 150ms/step - loss: 0.5806 - accuracy: 0.7806 - val_loss: 0.4916 - val_accuracy: 0.8125\n",
            "Epoch 19/50\n",
            "100/100 [==============================] - 15s 149ms/step - loss: 0.5695 - accuracy: 0.7887 - val_loss: 0.5124 - val_accuracy: 0.8062\n",
            "Epoch 20/50\n",
            "100/100 [==============================] - 15s 148ms/step - loss: 0.5687 - accuracy: 0.7872 - val_loss: 0.4860 - val_accuracy: 0.8175\n",
            "Epoch 21/50\n",
            "100/100 [==============================] - 15s 148ms/step - loss: 0.5377 - accuracy: 0.7944 - val_loss: 0.4343 - val_accuracy: 0.8475\n",
            "Epoch 22/50\n",
            "100/100 [==============================] - 15s 151ms/step - loss: 0.5345 - accuracy: 0.8009 - val_loss: 0.4247 - val_accuracy: 0.8438\n",
            "Epoch 23/50\n",
            "100/100 [==============================] - 15s 150ms/step - loss: 0.5319 - accuracy: 0.8022 - val_loss: 0.4793 - val_accuracy: 0.8338\n",
            "Epoch 24/50\n",
            "100/100 [==============================] - 15s 151ms/step - loss: 0.5057 - accuracy: 0.8156 - val_loss: 0.4165 - val_accuracy: 0.8438\n",
            "Epoch 25/50\n",
            "100/100 [==============================] - 17s 170ms/step - loss: 0.4945 - accuracy: 0.8213 - val_loss: 0.4389 - val_accuracy: 0.8462\n",
            "Epoch 26/50\n",
            "100/100 [==============================] - 15s 150ms/step - loss: 0.5003 - accuracy: 0.8128 - val_loss: 0.3912 - val_accuracy: 0.8562\n",
            "Epoch 27/50\n",
            "100/100 [==============================] - 16s 156ms/step - loss: 0.5080 - accuracy: 0.8141 - val_loss: 0.4809 - val_accuracy: 0.8213\n",
            "Epoch 28/50\n",
            "100/100 [==============================] - 15s 153ms/step - loss: 0.4754 - accuracy: 0.8247 - val_loss: 0.3950 - val_accuracy: 0.8537\n",
            "Epoch 29/50\n",
            "100/100 [==============================] - 15s 153ms/step - loss: 0.4770 - accuracy: 0.8291 - val_loss: 0.3591 - val_accuracy: 0.8612\n",
            "Epoch 30/50\n",
            "100/100 [==============================] - 15s 145ms/step - loss: 0.4705 - accuracy: 0.8281 - val_loss: 0.3941 - val_accuracy: 0.8575\n",
            "Epoch 31/50\n",
            "100/100 [==============================] - 15s 148ms/step - loss: 0.4848 - accuracy: 0.8272 - val_loss: 0.3558 - val_accuracy: 0.8687\n",
            "Epoch 32/50\n",
            "100/100 [==============================] - 15s 146ms/step - loss: 0.4550 - accuracy: 0.8369 - val_loss: 0.3988 - val_accuracy: 0.8400\n",
            "Epoch 33/50\n",
            "100/100 [==============================] - 15s 150ms/step - loss: 0.4426 - accuracy: 0.8400 - val_loss: 0.3559 - val_accuracy: 0.8775\n",
            "Epoch 34/50\n",
            "100/100 [==============================] - 15s 147ms/step - loss: 0.4294 - accuracy: 0.8447 - val_loss: 0.3444 - val_accuracy: 0.8750\n",
            "Epoch 35/50\n",
            "100/100 [==============================] - 15s 146ms/step - loss: 0.4181 - accuracy: 0.8522 - val_loss: 0.3114 - val_accuracy: 0.8888\n",
            "Epoch 36/50\n",
            "100/100 [==============================] - 15s 149ms/step - loss: 0.4153 - accuracy: 0.8553 - val_loss: 0.3262 - val_accuracy: 0.8900\n",
            "Epoch 37/50\n",
            "100/100 [==============================] - 15s 148ms/step - loss: 0.3972 - accuracy: 0.8628 - val_loss: 0.3195 - val_accuracy: 0.8863\n",
            "Epoch 38/50\n",
            "100/100 [==============================] - 15s 146ms/step - loss: 0.4031 - accuracy: 0.8494 - val_loss: 0.3084 - val_accuracy: 0.8950\n",
            "Epoch 39/50\n",
            "100/100 [==============================] - 15s 147ms/step - loss: 0.3917 - accuracy: 0.8650 - val_loss: 0.2984 - val_accuracy: 0.8975\n",
            "Epoch 40/50\n",
            "100/100 [==============================] - 14s 144ms/step - loss: 0.3869 - accuracy: 0.8687 - val_loss: 0.3044 - val_accuracy: 0.9000\n",
            "Epoch 41/50\n",
            "100/100 [==============================] - 15s 148ms/step - loss: 0.3461 - accuracy: 0.8897 - val_loss: 0.3056 - val_accuracy: 0.8975\n",
            "Epoch 42/50\n",
            "100/100 [==============================] - 15s 151ms/step - loss: 0.3777 - accuracy: 0.8741 - val_loss: 0.3951 - val_accuracy: 0.8550\n",
            "Epoch 43/50\n",
            "100/100 [==============================] - 17s 174ms/step - loss: 0.3782 - accuracy: 0.8656 - val_loss: 0.3089 - val_accuracy: 0.9038\n",
            "Epoch 44/50\n",
            "100/100 [==============================] - 15s 154ms/step - loss: 0.3649 - accuracy: 0.8794 - val_loss: 0.2904 - val_accuracy: 0.8988\n",
            "Epoch 45/50\n",
            "100/100 [==============================] - 15s 147ms/step - loss: 0.3308 - accuracy: 0.8809 - val_loss: 0.2378 - val_accuracy: 0.9187\n",
            "Epoch 46/50\n",
            "100/100 [==============================] - 15s 148ms/step - loss: 0.2867 - accuracy: 0.9028 - val_loss: 0.2311 - val_accuracy: 0.9200\n",
            "Epoch 47/50\n",
            "100/100 [==============================] - 15s 149ms/step - loss: 0.2635 - accuracy: 0.9056 - val_loss: 0.2374 - val_accuracy: 0.9200\n",
            "Epoch 48/50\n",
            "100/100 [==============================] - 15s 147ms/step - loss: 0.2599 - accuracy: 0.9134 - val_loss: 0.1103 - val_accuracy: 0.9613\n",
            "Epoch 49/50\n",
            "100/100 [==============================] - 15s 151ms/step - loss: 0.1927 - accuracy: 0.9316 - val_loss: 0.1401 - val_accuracy: 0.9438\n",
            "Epoch 50/50\n",
            "100/100 [==============================] - 15s 148ms/step - loss: 0.2365 - accuracy: 0.9128 - val_loss: 0.1253 - val_accuracy: 0.9513\n"
          ]
        }
      ]
    },
    {
      "cell_type": "code",
      "source": [
        "pred=model.predict(xtest)#returns a NumPy array of predicted values of xtrain dataset(each row is a sample, each column is a class proba)\n",
        "predict = np.argmax(pred, axis=1) #to obtain the class label associated with the highest predicted probability for each image.\n",
        "print(predict)\n",
        "num_classes = len(np.unique(ytrain))\n",
        "pred_onehot = np.eye(num_classes)[predict]\n"
      ],
      "metadata": {
        "colab": {
          "base_uri": "https://localhost:8080/"
        },
        "id": "Rrhggz9PrCTm",
        "outputId": "b2576986-6fbc-4394-981b-ec282cf46b28"
      },
      "execution_count": null,
      "outputs": [
        {
          "output_type": "stream",
          "name": "stdout",
          "text": [
            "25/25 [==============================] - 1s 16ms/step\n",
            "[2 2 1 2 0 1 2 0 0 1 1 2 0 1 0 3 1 1 3 0 3 2 1 0 3 2 2 3 1 1 1 3 3 1 3 0 0\n",
            " 0 3 3 3 1 3 2 2 0 3 2 1 1 3 1 0 3 0 3 3 0 1 2 0 1 3 1 3 3 0 1 2 2 1 1 2 3\n",
            " 2 0 1 3 3 1 3 0 1 3 0 3 0 0 1 1 0 3 3 0 3 1 1 1 1 0 0 3 1 1 0 0 2 3 0 3 1\n",
            " 3 0 1 3 3 1 3 2 2 1 3 2 1 3 2 1 0 2 0 1 3 3 2 2 2 0 1 3 1 1 1 1 1 2 3 2 2\n",
            " 1 0 0 1 2 0 1 3 1 3 1 3 0 3 0 1 2 2 1 2 1 3 3 1 3 2 0 0 3 0 0 3 2 2 1 2 3\n",
            " 3 0 0 0 0 3 1 1 3 0 1 2 1 0 1 1 1 0 0 1 1 1 0 1 3 2 3 2 3 2 3 2 2 3 2 1 2\n",
            " 3 3 3 0 2 1 0 3 1 3 1 1 3 2 2 2 3 1 3 1 2 2 3 1 2 3 1 1 0 1 1 0 3 3 3 0 1\n",
            " 0 3 1 2 0 0 1 2 1 1 3 1 3 1 0 0 2 3 3 1 2 2 3 1 2 1 0 3 3 3 0 0 2 3 0 2 1\n",
            " 0 2 0 0 2 2 3 1 0 1 3 3 2 2 1 0 2 3 1 1 2 1 2 1 1 1 1 1 1 3 2 0 3 2 0 3 0\n",
            " 2 2 1 0 3 0 1 2 2 3 2 1 2 3 0 2 2 3 2 3 0 0 0 0 3 0 1 0 2 1 0 2 3 3 1 2 0\n",
            " 3 3 1 3 3 2 1 3 3 2 0 2 1 3 1 2 2 1 3 0 2 3 0 1 3 1 0 1 3 1 0 1 1 1 1 2 2\n",
            " 2 3 1 3 1 0 2 3 1 1 0 1 3 0 0 1 0 3 0 3 2 3 0 1 1 2 0 2 0 1 3 1 3 2 3 0 3\n",
            " 0 3 1 3 1 0 1 0 1 3 3 2 1 0 3 2 0 0 0 0 1 3 0 0 2 2 2 2 2 0 1 1 0 1 0 3 0\n",
            " 0 0 2 1 3 1 0 0 2 2 1 2 0 1 2 0 3 3 3 3 1 3 1 0 0 1 1 0 0 1 2 3 0 2 0 3 0\n",
            " 0 0 2 1 3 0 3 0 0 0 0 1 2 0 2 2 0 1 1 3 0 0 0 1 0 0 1 1 3 1 0 2 0 2 0 2 2\n",
            " 1 3 1 0 1 1 2 2 3 0 3 0 2 1 2 2 1 2 3 3 1 2 3 3 0 2 3 1 0 3 1 1 1 1 2 2 0\n",
            " 0 2 3 3 1 1 2 1 2 0 0 0 0 1 0 2 0 1 2 0 3 1 1 3 1 0 0 2 1 2 0 2 3 3 1 1 1\n",
            " 0 2 0 2 3 3 0 3 1 3 2 1 3 3 1 0 1 3 2 1 3 2 1 1 1 1 1 2 0 0 1 3 1 1 3 2 3\n",
            " 0 3 1 1 1 3 0 1 3 1 2 1 1 1 1 0 0 3 3 3 0 1 2 3 3 0 1 3 1 3 0 0 2 0 1 2 0\n",
            " 1 2 0 3 2 2 3 0 2 1 1 3 2 3 3 2 1 0 1 2 3 1 1 3 0 2 0 1 2 1 0 3 1 1 3 2 1\n",
            " 1 0 3 3 0 2 3 3 1 1 3 2 0 2 1 0 3 3 1 1 2 3 0 0 0 0 2 2 0 0 2 0 0 3 2 2 2\n",
            " 0 1 1 3 2 0 0 1 3 0 2 1 0 2 3 1 0 0 3 1 1 1 1]\n"
          ]
        }
      ]
    },
    {
      "cell_type": "code",
      "source": [
        "print(ytest)"
      ],
      "metadata": {
        "colab": {
          "base_uri": "https://localhost:8080/",
          "height": 166
        },
        "id": "fTEE_jJysQAp",
        "outputId": "38e769b0-93ff-4438-e84d-2e7ceec3a89b"
      },
      "execution_count": null,
      "outputs": [
        {
          "output_type": "error",
          "ename": "NameError",
          "evalue": "ignored",
          "traceback": [
            "\u001b[0;31m---------------------------------------------------------------------------\u001b[0m",
            "\u001b[0;31mNameError\u001b[0m                                 Traceback (most recent call last)",
            "\u001b[0;32m<ipython-input-1-58a37b3dcb6e>\u001b[0m in \u001b[0;36m<cell line: 1>\u001b[0;34m()\u001b[0m\n\u001b[0;32m----> 1\u001b[0;31m \u001b[0mprint\u001b[0m\u001b[0;34m(\u001b[0m\u001b[0mytest\u001b[0m\u001b[0;34m)\u001b[0m\u001b[0;34m\u001b[0m\u001b[0;34m\u001b[0m\u001b[0m\n\u001b[0m",
            "\u001b[0;31mNameError\u001b[0m: name 'ytest' is not defined"
          ]
        }
      ]
    },
    {
      "cell_type": "code",
      "source": [
        "from sklearn.metrics import confusion_matrix\n",
        "cm=confusion_matrix(ytest, predict)\n",
        "cm_df = pd.DataFrame(cm,\n",
        "                     index = ['Benign','Early','Pre','Pro'],\n",
        "                     columns = ['Benign','Early','Pre','Pro'])\n",
        "print(cm_df)"
      ],
      "metadata": {
        "colab": {
          "base_uri": "https://localhost:8080/"
        },
        "id": "JyGJf5zqWbMl",
        "outputId": "ef842bb9-7c1b-4d66-e1fb-89981caf3a70"
      },
      "execution_count": null,
      "outputs": [
        {
          "output_type": "stream",
          "name": "stdout",
          "text": [
            "        Benign  Early  Pre  Pro\n",
            "Benign     184     10    0    0\n",
            "Early        8    213    1    0\n",
            "Pre          7      8  168    1\n",
            "Pro          1      3    0  196\n"
          ]
        }
      ]
    },
    {
      "cell_type": "code",
      "source": [
        "from sklearn.metrics import classification_report\n",
        "report = classification_report(ytest, predict)\n",
        "print('Classification Report:')\n",
        "print(report)"
      ],
      "metadata": {
        "colab": {
          "base_uri": "https://localhost:8080/"
        },
        "id": "Lj00oYH5XP6c",
        "outputId": "670176d1-c306-4d02-f3a4-1312cd6126eb"
      },
      "execution_count": null,
      "outputs": [
        {
          "output_type": "stream",
          "name": "stdout",
          "text": [
            "Classification Report:\n",
            "              precision    recall  f1-score   support\n",
            "\n",
            "           0       0.92      0.95      0.93       194\n",
            "           1       0.91      0.96      0.93       222\n",
            "           2       0.99      0.91      0.95       184\n",
            "           3       0.99      0.98      0.99       200\n",
            "\n",
            "    accuracy                           0.95       800\n",
            "   macro avg       0.95      0.95      0.95       800\n",
            "weighted avg       0.95      0.95      0.95       800\n",
            "\n"
          ]
        }
      ]
    },
    {
      "cell_type": "code",
      "source": [
        "import matplotlib.pyplot as plt\n",
        "\n",
        "# Create a figure and axis\n",
        "fig, ax = plt.subplots(figsize=(8, 6))\n",
        "\n",
        "# Create a heatmap of the confusion matrix\n",
        "sns.heatmap(cm_df, annot=True, fmt='d', cmap='Blues', ax=ax)\n",
        "\n",
        "# Set labels, title, and ticks\n",
        "ax.set_xlabel('Predicted Labels')\n",
        "ax.set_ylabel('True Labels')\n",
        "ax.set_title('Confusion Matrix')\n",
        "\n",
        "# Rotate tick labels if needed\n",
        "plt.xticks(rotation=45)"
      ],
      "metadata": {
        "colab": {
          "base_uri": "https://localhost:8080/",
          "height": 735
        },
        "id": "ZkoEN9qyaqTr",
        "outputId": "41c9f8b2-f448-45ad-db15-94c322bee349"
      },
      "execution_count": null,
      "outputs": [
        {
          "output_type": "execute_result",
          "data": {
            "text/plain": [
              "(array([0.5, 1.5, 2.5, 3.5]),\n",
              " [Text(0.5, 0, 'Benign'),\n",
              "  Text(1.5, 0, 'Early'),\n",
              "  Text(2.5, 0, 'Pre'),\n",
              "  Text(3.5, 0, 'Pro')])"
            ]
          },
          "metadata": {},
          "execution_count": 23
        },
        {
          "output_type": "display_data",
          "data": {
            "text/plain": [
              "<Figure size 800x600 with 2 Axes>"
            ],
            "image/png": "[encoded data removed]"
          },
          "metadata": {}
        }
      ]
    },
    {
      "cell_type": "code",
      "source": [
        "from sklearn.metrics import accuracy_score\n",
        "accuracy_score(ytest, predict)"
      ],
      "metadata": {
        "colab": {
          "base_uri": "https://localhost:8080/"
        },
        "id": "IKhIe67Hx7xG",
        "outputId": "7c823d15-912f-4087-cce6-e28b39c0116f"
      },
      "execution_count": null,
      "outputs": [
        {
          "output_type": "execute_result",
          "data": {
            "text/plain": [
              "0.95125"
            ]
          },
          "metadata": {},
          "execution_count": 24
        }
      ]
    },
    {
      "cell_type": "code",
      "source": [
        "plt.plot(history.history['accuracy'], label='Training Accuracy')\n",
        "plt.plot(history.history['val_accuracy'], label='Validation Accuracy')\n",
        "plt.xlabel('Epoch')\n",
        "plt.ylabel('Accuracy')\n",
        "plt.legend()\n",
        "plt.show()"
      ],
      "metadata": {
        "colab": {
          "base_uri": "https://localhost:8080/",
          "height": 478
        },
        "id": "JN96GCLt9E90",
        "outputId": "459727c5-01d3-4bf5-b1bd-f4b64200a2d4"
      },
      "execution_count": null,
      "outputs": [
        {
          "output_type": "display_data",
          "data": {
            "text/plain": [
              "<Figure size 640x480 with 1 Axes>"
            ],
            "image/png": "[encoded data removed]"
          },
          "metadata": {}
        }
      ]
    },
    {
      "cell_type": "code",
      "source": [
        "plt.plot(history.history['loss'], label='Training Loss')\n",
        "plt.plot(history.history['val_loss'], label='Validation Loss')\n",
        "plt.xlabel('Epoch')\n",
        "plt.ylabel('Loss')\n",
        "plt.legend()\n",
        "plt.show()"
      ],
      "metadata": {
        "colab": {
          "base_uri": "https://localhost:8080/",
          "height": 478
        },
        "id": "AvWWZU779FAQ",
        "outputId": "acb5abc2-e416-4e9b-9815-095064624028"
      },
      "execution_count": null,
      "outputs": [
        {
          "output_type": "display_data",
          "data": {
            "text/plain": [
              "<Figure size 640x480 with 1 Axes>"
            ],
            "image/png": "[encoded data removed]"
          },
          "metadata": {}
        }
      ]
    },
    {
      "cell_type": "code",
      "source": [
        "loss, accuracy = model.evaluate(xtest, ytest)\n",
        "print(\"Test Loss:\", loss)\n",
        "print(\"Test Accuracy:\", accuracy)\n",
        "loss, accuracy = model.evaluate(xtrain, ytrain)\n",
        "print(\"train Loss:\", loss)\n",
        "print(\"train Accuracy:\", accuracy)"
      ],
      "metadata": {
        "colab": {
          "base_uri": "https://localhost:8080/"
        },
        "id": "JvbbqCy8tkRQ",
        "outputId": "6a044a04-ee91-4fcd-8bc6-3ea2f08e1d7b"
      },
      "execution_count": null,
      "outputs": [
        {
          "output_type": "stream",
          "name": "stdout",
          "text": [
            "25/25 [==============================] - 0s 18ms/step - loss: 0.1253 - accuracy: 0.9513\n",
            "Test Loss: 0.1252901703119278\n",
            "Test Accuracy: 0.9512500166893005\n",
            "100/100 [==============================] - 1s 15ms/step - loss: 0.1181 - accuracy: 0.9522\n",
            "train Loss: 0.11814838647842407\n",
            "train Accuracy: 0.9521874785423279\n"
          ]
        }
      ]
    },
    {
      "cell_type": "code",
      "source": [
        "!pip install scikit-learn"
      ],
      "metadata": {
        "colab": {
          "base_uri": "https://localhost:8080/"
        },
        "id": "MF954zY_GpJ4",
        "outputId": "0d851513-d30c-44f6-a942-ef5d5be82567"
      },
      "execution_count": null,
      "outputs": [
        {
          "output_type": "stream",
          "name": "stdout",
          "text": [
            "Looking in indexes: https://pypi.org/simple, https://us-python.pkg.dev/colab-wheels/public/simple/\n",
            "Requirement already satisfied: scikit-learn in /usr/local/lib/python3.10/dist-packages (1.2.2)\n",
            "Requirement already satisfied: numpy>=1.17.3 in /usr/local/lib/python3.10/dist-packages (from scikit-learn) (1.22.4)\n",
            "Requirement already satisfied: scipy>=1.3.2 in /usr/local/lib/python3.10/dist-packages (from scikit-learn) (1.10.1)\n",
            "Requirement already satisfied: joblib>=1.1.1 in /usr/local/lib/python3.10/dist-packages (from scikit-learn) (1.2.0)\n",
            "Requirement already satisfied: threadpoolctl>=2.0.0 in /usr/local/lib/python3.10/dist-packages (from scikit-learn) (3.1.0)\n"
          ]
        }
      ]
    },
    {
      "cell_type": "code",
      "source": [
        "data_dir1 = pathlib.Path(\"/content/drive/MyDrive/dataset_processed/Unseen_data\")\n",
        "classes = {'Benign': 0, 'Early': 1, 'Pre': 2, 'Pro': 3}\n",
        "UX = []\n",
        "UY = []\n",
        "for cls in classes:\n",
        "    folder_path = os.path.join(data_dir1, cls)  # Path to the class subfolder\n",
        "    for filename in os.listdir(folder_path):\n",
        "        img_path = os.path.join(folder_path, filename)  # Path to the image file\n",
        "        img = cv2.imread(img_path,0)  # Read the image using OpenCV\n",
        "        if img is not None:\n",
        "           img = cv2.resize(img, (224, 224))\n",
        "           UX.append(img) #a list where each item represents an image. Each image will be in the form of a NumPy array => (num_images, 200, 200). will be a list of NumPy arrays representing the resized images\n",
        "           UY.append(classes[cls]) #will be a list of labels associated with each image.(same length os X)"
      ],
      "metadata": {
        "id": "uNpDhnOG2SQB"
      },
      "execution_count": null,
      "outputs": []
    },
    {
      "cell_type": "code",
      "source": [
        "num_images1 = len(UX)\n",
        "\n",
        "print(\"Number of images found:\", num_images1)"
      ],
      "metadata": {
        "colab": {
          "base_uri": "https://localhost:8080/"
        },
        "id": "2AclX1h-5Kl7",
        "outputId": "5fb212c3-2a6e-406d-cca5-73a90e758cff"
      },
      "execution_count": null,
      "outputs": [
        {
          "output_type": "stream",
          "name": "stdout",
          "text": [
            "Number of images found: 400\n"
          ]
        }
      ]
    },
    {
      "cell_type": "code",
      "source": [
        "np.unique(UY)\n",
        "pd.Series(UY).value_counts()"
      ],
      "metadata": {
        "colab": {
          "base_uri": "https://localhost:8080/"
        },
        "id": "hmfSdF1E5QKs",
        "outputId": "387ca0df-2736-43a0-eee3-bd4ab4fda881"
      },
      "execution_count": null,
      "outputs": [
        {
          "output_type": "execute_result",
          "data": {
            "text/plain": [
              "0    100\n",
              "1    100\n",
              "2    100\n",
              "3    100\n",
              "dtype: int64"
            ]
          },
          "metadata": {},
          "execution_count": 38
        }
      ]
    },
    {
      "cell_type": "code",
      "source": [
        "UX = np.array(UX)\n",
        "UY = np.array(UY)\n",
        "UX = UX.reshape(UX.shape[0], UX.shape[1], UX.shape[2], 1)\n",
        "print(\"UX.shape[0]:\", UX.shape[0])\n",
        "print(\"UX.shape[1]:\", UX.shape[1])\n",
        "print(\"UX.shape[2]:\", UX.shape[2])"
      ],
      "metadata": {
        "colab": {
          "base_uri": "https://localhost:8080/"
        },
        "id": "OhHGpxIdYwc2",
        "outputId": "a70ad25e-729d-4632-f1e8-b87f26206b2d"
      },
      "execution_count": null,
      "outputs": [
        {
          "output_type": "stream",
          "name": "stdout",
          "text": [
            "UX.shape[0]: 400\n",
            "UX.shape[1]: 224\n",
            "UX.shape[2]: 224\n"
          ]
        }
      ]
    },
    {
      "cell_type": "code",
      "source": [
        "uxtrain, uxtest, uytrain, uytest = train_test_split(UX, UY, random_state=10, test_size=.01) #same train-test split every time i run the code\n",
        "uxtrain = uxtrain / 255.0\n",
        "uxtest = uxtest / 255.0\n",
        "print(uxtrain.shape, uxtest.shape)"
      ],
      "metadata": {
        "colab": {
          "base_uri": "https://localhost:8080/"
        },
        "id": "E3DsLMFZYZ3Z",
        "outputId": "5d14e15b-d8e1-41ab-d072-0d2e24199a34"
      },
      "execution_count": null,
      "outputs": [
        {
          "output_type": "stream",
          "name": "stdout",
          "text": [
            "(396, 224, 224, 1) (4, 224, 224, 1)\n"
          ]
        }
      ]
    },
    {
      "cell_type": "code",
      "source": [
        "pd.Series(uytrain).value_counts()"
      ],
      "metadata": {
        "colab": {
          "base_uri": "https://localhost:8080/"
        },
        "id": "4fxZ0f4cTWzD",
        "outputId": "fc013a8e-5f93-416a-dafd-671576a0ab4a"
      },
      "execution_count": null,
      "outputs": [
        {
          "output_type": "execute_result",
          "data": {
            "text/plain": [
              "0    100\n",
              "2     99\n",
              "1     99\n",
              "3     98\n",
              "dtype: int64"
            ]
          },
          "metadata": {},
          "execution_count": 41
        }
      ]
    },
    {
      "cell_type": "code",
      "source": [
        "upred= model.predict(uxtrain)#returns a NumPy array of predicted values of xtrain dataset(each row is a sample, each column is a class proba)\n",
        "upredict = np.argmax(upred, axis=1) #to obtain the class label associated with the highest predicted probability for each image.\n",
        "print(upredict)\n",
        "unum_classes = len(np.unique(uytrain))\n",
        "upred_onehot = np.eye(num_classes)[upredict]"
      ],
      "metadata": {
        "colab": {
          "base_uri": "https://localhost:8080/"
        },
        "id": "U0odM8M3TaTR",
        "outputId": "3f8db7a2-21cf-429b-eb13-fbe3dd38eb30"
      },
      "execution_count": null,
      "outputs": [
        {
          "output_type": "stream",
          "name": "stdout",
          "text": [
            "13/13 [==============================] - 1s 43ms/step\n",
            "[0 3 0 2 1 1 1 1 3 2 0 2 0 0 0 3 0 1 3 2 3 1 2 2 3 3 0 0 1 0 3 1 3 3 1 1 1\n",
            " 3 0 0 2 1 2 2 3 0 0 2 3 0 3 2 1 0 1 2 0 1 3 2 0 0 1 2 0 1 1 3 0 1 0 3 1 1\n",
            " 0 1 0 3 1 1 1 1 1 1 1 1 3 0 1 2 0 0 3 0 1 0 0 0 3 3 2 3 1 0 2 1 0 0 1 0 3\n",
            " 0 2 0 0 1 3 0 0 3 1 3 3 0 1 1 1 2 1 0 1 2 3 0 2 1 3 1 3 3 1 3 0 3 0 2 2 1\n",
            " 0 1 3 3 2 1 3 0 0 0 1 1 1 1 0 2 0 1 1 1 3 1 1 0 0 1 1 1 1 1 3 0 1 0 0 2 3\n",
            " 3 0 3 2 3 0 1 2 1 0 0 3 1 3 3 2 1 1 0 2 1 0 2 1 3 3 1 0 3 3 3 3 1 1 0 1 1\n",
            " 3 1 1 1 3 1 2 1 3 3 0 3 0 0 1 0 0 0 3 1 3 1 1 3 1 0 1 2 1 2 3 0 2 0 1 3 3\n",
            " 1 3 2 2 1 2 1 1 3 0 3 3 3 0 0 0 0 0 2 0 3 1 3 1 2 3 3 0 1 2 2 3 0 1 1 3 3\n",
            " 0 0 3 0 3 0 0 1 1 0 0 3 1 3 2 0 2 0 1 3 1 2 1 0 1 2 0 1 1 1 1 0 1 3 3 0 1\n",
            " 0 0 2 2 0 1 1 3 0 1 3 3 2 0 0 2 0 3 0 0 0 2 3 0 3 1 0 1 1 3 3 1 1 0 0 3 1\n",
            " 1 3 2 0 0 1 3 3 0 2 3 1 3 0 1 0 0 3 2 1 1 3 3 0 1 2]\n"
          ]
        }
      ]
    },
    {
      "cell_type": "code",
      "source": [
        "print(uytrain)"
      ],
      "metadata": {
        "colab": {
          "base_uri": "https://localhost:8080/"
        },
        "id": "3IPCOVWbTaWJ",
        "outputId": "567b35a3-1966-405a-e554-e22a4f798a42"
      },
      "execution_count": null,
      "outputs": [
        {
          "output_type": "stream",
          "name": "stdout",
          "text": [
            "[0 3 0 2 1 1 1 1 3 2 0 2 0 0 0 3 0 1 3 2 3 1 2 2 3 3 0 0 1 0 3 1 3 2 1 1 1\n",
            " 3 0 0 2 1 2 2 3 0 0 2 3 0 3 2 2 0 2 2 0 2 3 2 2 2 1 2 0 1 1 3 0 1 0 3 1 1\n",
            " 0 0 3 3 1 1 1 1 1 1 1 1 3 0 1 2 0 0 3 0 1 0 0 0 3 3 2 3 1 0 2 1 0 2 1 0 3\n",
            " 0 2 2 0 1 3 0 2 2 1 3 3 0 1 2 1 2 1 2 1 2 3 0 2 2 3 2 3 2 1 3 0 3 0 2 2 1\n",
            " 0 1 3 3 2 1 3 2 0 0 2 1 1 1 0 2 0 1 0 2 3 2 1 0 3 1 2 1 1 1 3 0 1 0 0 2 3\n",
            " 3 0 3 2 3 0 1 2 1 0 1 3 2 3 3 2 1 1 0 2 1 0 2 1 3 3 1 0 3 3 3 3 2 1 0 1 2\n",
            " 3 1 1 1 3 1 2 1 3 3 0 3 0 0 1 0 0 0 3 2 3 1 1 3 1 2 2 2 1 2 3 0 2 2 1 3 3\n",
            " 1 3 2 2 1 2 2 1 3 0 3 3 3 0 0 0 0 0 2 2 3 1 3 1 2 3 3 0 0 2 2 3 0 1 2 3 3\n",
            " 0 0 3 2 2 0 0 1 1 2 0 3 2 3 2 0 2 0 1 3 2 2 1 0 1 2 0 2 1 1 2 2 1 3 3 0 1\n",
            " 0 2 2 2 2 1 1 3 0 1 3 3 2 0 3 2 0 3 0 0 2 2 3 0 3 1 0 1 2 3 3 1 2 0 0 3 1\n",
            " 1 3 2 0 0 1 3 3 0 2 3 0 3 0 2 0 0 3 2 1 1 3 3 0 1 2]\n"
          ]
        }
      ]
    },
    {
      "cell_type": "code",
      "source": [
        "from sklearn.metrics import confusion_matrix\n",
        "cm1=confusion_matrix(uytrain, upredict)\n",
        "cm_df1 = pd.DataFrame(cm1,\n",
        "                     index = ['Benign','Early','Pre','Pro'],\n",
        "                     columns = ['Benign','Early','Pre','Pro'])\n",
        "print(cm_df1)"
      ],
      "metadata": {
        "colab": {
          "base_uri": "https://localhost:8080/"
        },
        "id": "LFf_8513TyX-",
        "outputId": "e8902487-90c8-43a1-b410-868fb9b33e9e"
      },
      "execution_count": null,
      "outputs": [
        {
          "output_type": "stream",
          "name": "stdout",
          "text": [
            "        Benign  Early  Pre  Pro\n",
            "Benign      96      4    0    0\n",
            "Early        1     98    0    0\n",
            "Pre         16     24   55    4\n",
            "Pro          3      0    0   95\n"
          ]
        }
      ]
    },
    {
      "cell_type": "code",
      "source": [
        "import matplotlib.pyplot as plt\n",
        "\n",
        "# Create a figure and axis\n",
        "fig, ax = plt.subplots(figsize=(8, 6))\n",
        "\n",
        "# Create a heatmap of the confusion matrix\n",
        "sns.heatmap(cm_df1, annot=True, fmt='d', cmap='Blues', ax=ax)\n",
        "\n",
        "# Set labels, title, and ticks\n",
        "ax.set_xlabel('Predicted Labels')\n",
        "ax.set_ylabel('True Labels')\n",
        "ax.set_title('Confusion Matrix')\n",
        "\n",
        "# Rotate tick labels if needed\n",
        "plt.xticks(rotation=45)"
      ],
      "metadata": {
        "colab": {
          "base_uri": "https://localhost:8080/",
          "height": 735
        },
        "id": "ZkgrxEFKTyar",
        "outputId": "ed7ca4d1-b355-4a43-eed0-ca726af982b5"
      },
      "execution_count": null,
      "outputs": [
        {
          "output_type": "execute_result",
          "data": {
            "text/plain": [
              "(array([0.5, 1.5, 2.5, 3.5]),\n",
              " [Text(0.5, 0, 'Benign'),\n",
              "  Text(1.5, 0, 'Early'),\n",
              "  Text(2.5, 0, 'Pre'),\n",
              "  Text(3.5, 0, 'Pro')])"
            ]
          },
          "metadata": {},
          "execution_count": 45
        },
        {
          "output_type": "display_data",
          "data": {
            "text/plain": [
              "<Figure size 800x600 with 2 Axes>"
            ],
            "image/png": "[encoded data removed]"
          },
          "metadata": {}
        }
      ]
    },
    {
      "cell_type": "code",
      "source": [
        "from sklearn.metrics import accuracy_score\n",
        "accuracy_score(uytrain, upredict)"
      ],
      "metadata": {
        "colab": {
          "base_uri": "https://localhost:8080/"
        },
        "outputId": "4f70d1e3-3e45-47a4-da66-18306217c33b",
        "id": "znmkshFIgQJK"
      },
      "execution_count": null,
      "outputs": [
        {
          "output_type": "execute_result",
          "data": {
            "text/plain": [
              "0.8686868686868687"
            ]
          },
          "metadata": {},
          "execution_count": 46
        }
      ]
    }
  ]
}